{
  "nbformat": 4,
  "nbformat_minor": 0,
  "metadata": {
    "colab": {
      "name": "FEA CODE SPRING.ipynb",
      "provenance": [],
      "collapsed_sections": [],
      "include_colab_link": true
    },
    "kernelspec": {
      "name": "python3",
      "display_name": "Python 3"
    },
    "language_info": {
      "name": "python"
    }
  },
  "cells": [
    {
      "cell_type": "markdown",
      "metadata": {
        "id": "view-in-github",
        "colab_type": "text"
      },
      "source": [
        "<a href=\"https://colab.research.google.com/github/devamsheth21/Finite-Element-Analysis-codes/blob/main/FEA_CODE_SPRING.ipynb\" target=\"_parent\"><img src=\"https://colab.research.google.com/assets/colab-badge.svg\" alt=\"Open In Colab\"/></a>"
      ]
    },
    {
      "cell_type": "markdown",
      "metadata": {
        "id": "zCcUuBmBrIma"
      },
      "source": [
        "***GLOBAL STIFFNESS MATRIX***"
      ]
    },
    {
      "cell_type": "code",
      "metadata": {
        "id": "pTZaA1ICRy28",
        "colab": {
          "base_uri": "https://localhost:8080/"
        },
        "outputId": "124a0ce9-e0b3-4223-cb7d-c050c8b4b9d6"
      },
      "source": [
        "#final\n",
        "\n",
        "import numpy\n",
        "tn = int(input('Enter the total number of nodes : ')) #total nodes\n",
        "te = int(input('Enter the total number of Elements : ')) #total elements\n",
        "A=[]\n",
        "K=[]\n",
        "elstmat=[]\n",
        "for i in range(te):\n",
        "    stiffness= float(input('Enter the K of section of element '+str(i+1)+' in N/mm: '))\n",
        "    A.append(stiffness)\n",
        "for i in range(te):\n",
        "    S=A[i]*numpy.array([[1,-1],[-1,1]])\n",
        "    elstmat.append(S)\n",
        "    print(\" Stiffness matrix for element\" ,i, \"is : K\",i,\"= \\n\", elstmat[i])\n",
        "c=[]\n",
        "d=[]\n",
        "e = numpy.zeros((tn,tn))\n",
        "for i in range(te):  \n",
        "    start = int(input('Enter the Start node of element '+str(i+1)+' : '))\n",
        "    end = int(input('Enter the End node of element '+str(i+1)+' : '))\n",
        "    if (start>end):\n",
        "        c=start\n",
        "        start=end\n",
        "        end=c\n",
        "    n=abs(start-end)\n",
        "    stiffness=A[i]\n",
        "    e[start-1][end-(n+1)]= e[start-1][end-(n+1)]+stiffness\n",
        "    e[start-1][end-1]=e[start-1][end-1]-stiffness\n",
        "    e[start+(n-1)][end-(n+1)]=e[start+(n-1)][end-(n+1)]-stiffness\n",
        "    e[start+(n-1)][end-1]=e[start+(n-1)][end-1]+stiffness       \n",
        "print(e)"
      ],
      "execution_count": null,
      "outputs": [
        {
          "output_type": "stream",
          "name": "stdout",
          "text": [
            "Enter the total number of nodes : 3\n",
            "Enter the total number of Elements : 2\n",
            "Enter the K of section of element 1 in N/mm: 1\n",
            "Enter the K of section of element 2 in N/mm: 1.4\n",
            " Stiffness matrix for element 0 is : K 0 = \n",
            " [[ 1. -1.]\n",
            " [-1.  1.]]\n",
            " Stiffness matrix for element 1 is : K 1 = \n",
            " [[ 1.4 -1.4]\n",
            " [-1.4  1.4]]\n",
            "Enter the Start node of element 1 : 1\n",
            "Enter the End node of element 1 : 3\n",
            "Enter the Start node of element 2 : 3\n",
            "Enter the End node of element 2 : 2\n",
            "[[ 1.   0.  -1. ]\n",
            " [ 0.   1.4 -1.4]\n",
            " [-1.  -1.4  2.4]]\n"
          ]
        }
      ]
    },
    {
      "cell_type": "markdown",
      "metadata": {
        "id": "pZTCnWHBq-Oy"
      },
      "source": [
        "###  **FORCE CALCULATION** \n"
      ]
    },
    {
      "cell_type": "code",
      "metadata": {
        "colab": {
          "base_uri": "https://localhost:8080/"
        },
        "id": "U8gXP__ngejd",
        "outputId": "63f15547-1401-434a-aa32-d827ffcc3acb"
      },
      "source": [
        "#FORCE\n",
        "displist = []\n",
        "forcelist = []\n",
        "for i in range(tn):\n",
        "    a = str('u')+str(i+1)\n",
        "    displist.append(a)\n",
        "    # b = str('v')+str(i+1)\n",
        "    # displist.append(b)\n",
        "    c = str('fx')+str(i+1)\n",
        "    forcelist.append(c)\n",
        "    # d = str('fy')+str(i+1)\n",
        "    # forcelist.append(d)\n",
        "\n",
        "##print(displist)\n",
        "##print(forcelist)\n",
        "    \n",
        "print('\\n\\n_______Support Specifications_____\\n')\n",
        "\n",
        "dispmat = numpy.ones((tn,1))\n",
        "tsupn = int(input('Enter the total number of nodes having supports : ')) #total number of supported nodes\n",
        "supcondition = ['P = pinned',\n",
        "                'H = Horizonal restrained (vertical is free to move)',\n",
        "                'V = Vertical restrained (Horizontal is free to move)']\n",
        "   \n",
        "for i in range(tsupn):\n",
        "    supn = int(input('\\nEnter the node number of suuport : ')) #supported node\n",
        "    for a in supcondition:\n",
        "        print(a)\n",
        "    condition = str(input('\\nEnter the condition of the support : '))\n",
        "    if condition in['P', 'p']:\n",
        "        dispmat[supn-1, 0] = 0\n",
        "        # dispmat[supn*2-1, 0] = 0\n",
        "    # elif condition in['H', 'h']:\n",
        "    #     dispmat[supn-1, 0] = 0\n",
        "\n",
        "    else:\n",
        "        print('Please enter valid entries')\n",
        "##print(dispmat)\n",
        "\n",
        "\n",
        "print('\\n______Loading_______\\n')\n",
        "forcemat = numpy.zeros((tn,1))\n",
        "tlon = int(input('Enter the total number of loaded nodes : ')) #total number of loaded nodes\n",
        "\n",
        "for i in range(tlon):\n",
        "    lon = int(input('\\nEnter the node number of Loading : ')) #Loaded node\n",
        "    fx = float(input('Enter the Horizontal load at this node in N : '))\n",
        "    # fy = float(input('Enter the Vertical load at this node in N : '))\n",
        "    forcemat[lon-1, 0] = fx\n",
        "\n",
        "##print(forcemat)    \n",
        "\n",
        "\n",
        "###______Matrix Reduction______###\n",
        "\n",
        "\n",
        "rcdlist = []\n",
        "for i in range(tn):\n",
        "    if dispmat[i,0] == 0:\n",
        "        rcdlist.append(i)\n",
        "\n",
        "rrgsm = numpy.delete(e, rcdlist, 0) #row reduction\n",
        "crgsm = numpy.delete(rrgsm, rcdlist, 1) #column reduction\n",
        "rgsm = crgsm #reduced global stiffness matrix\n",
        "rforcemat = numpy.delete(forcemat, rcdlist, 0) #reduced force mat\n",
        "rdispmat = numpy.delete(dispmat, rcdlist, 0) #reduced disp mat\n",
        "\n",
        "###______Solving_______###\n",
        "\n",
        "dispresult = numpy.matmul(numpy.linalg.inv(rgsm), rforcemat)\n",
        "rin = 0\n",
        "for i in range(tn):\n",
        "    if dispmat[i,0] == 1:\n",
        "        dispmat[i,0] = dispresult[rin,0]\n",
        "        rin = rin+1\n",
        "##print(dispmat)\n",
        "\n",
        "forceresult = numpy.matmul(e, dispmat)\n",
        "##print(forceresult)\n",
        "\n",
        "print('\\n\\nGlobal Stiffness Matrix of the Truss\\n')\n",
        "print(e)\n",
        "print('\\n\\nDisplacement matrix of nodes\\n')\n",
        "print(dispmat)\n",
        "print('\\n\\nForce matrix of nodes\\n')\n",
        "print(forceresult)\n",
        "\n"
      ],
      "execution_count": null,
      "outputs": [
        {
          "output_type": "stream",
          "name": "stdout",
          "text": [
            "\n",
            "\n",
            "_______Support Specifications_____\n",
            "\n",
            "Enter the total number of nodes having supports : 1\n",
            "\n",
            "Enter the node number of suuport : 1\n",
            "P = pinned\n",
            "H = Horizonal restrained (vertical is free to move)\n",
            "V = Vertical restrained (Horizontal is free to move)\n",
            "\n",
            "Enter the condition of the support : p\n",
            "\n",
            "______Loading_______\n",
            "\n",
            "Enter the total number of loaded nodes : 1\n",
            "\n",
            "Enter the node number of Loading : 3\n",
            "Enter the Horizontal load at this node in N : 800\n",
            "\n",
            "\n",
            "Global Stiffness Matrix of the Truss\n",
            "\n",
            "[[ 35. -15.   0. -20.]\n",
            " [-15.  30. -15.   0.]\n",
            " [  0. -15.  45. -30.]\n",
            " [-20.   0. -30.  50.]]\n",
            "\n",
            "\n",
            "Displacement matrix of nodes\n",
            "\n",
            "[[ 0.        ]\n",
            " [20.51282051]\n",
            " [41.02564103]\n",
            " [24.61538462]]\n",
            "\n",
            "\n",
            "Force matrix of nodes\n",
            "\n",
            "[[-800.]\n",
            " [   0.]\n",
            " [ 800.]\n",
            " [   0.]]\n"
          ]
        }
      ]
    }
  ]
}